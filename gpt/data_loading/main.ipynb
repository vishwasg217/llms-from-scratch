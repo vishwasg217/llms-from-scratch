{
 "cells": [
  {
   "cell_type": "markdown",
   "metadata": {},
   "source": [
    "# Data Loading Pipeline\n",
    "\n",
    "1. Tokenize the text\n",
    "2. Sliding window approach to create sequences\n",
    "3. Load to `DataLoader` class\n",
    "4. Create embeddings layer\n",
    "5. Create positional embeddings layer\n",
    "6. Add positional embeddings to the embeddings"
   ]
  },
  {
   "cell_type": "code",
   "execution_count": 18,
   "metadata": {},
   "outputs": [],
   "source": [
    "import tiktoken\n",
    "from tiktoken.core import Encoding\n",
    "import torch\n",
    "from torch.utils.data import DataLoader, Dataset\n",
    "\n",
    "class GPTDataset(Dataset):\n",
    "    def __init__(self, text: str, tokenizer: Encoding, max_length: int, step: int):\n",
    "        self.input_ids = []\n",
    "        self.target_ids = []\n",
    "\n",
    "        token_ids = tokenizer.encode(text, allowed_special={\"<|endoftext|>\"})\n",
    "\n",
    "        for i in range(0, len(token_ids) - max_length, step):\n",
    "            input_chunk = token_ids[i:i + max_length]\n",
    "            target_chunk = token_ids[i + 1:i + max_length + 1]\n",
    "            self.input_ids.append(torch.tensor(input_chunk))\n",
    "            self.target_ids.append(torch.tensor(target_chunk))\n",
    "\n",
    "    def __len__(self):\n",
    "        return len(self.input_ids)\n",
    "    \n",
    "    def __getitem__(self, idx):\n",
    "        return self.input_ids[idx], self.target_ids[idx]"
   ]
  },
  {
   "cell_type": "code",
   "execution_count": 19,
   "metadata": {},
   "outputs": [],
   "source": [
    "def create_dataloader_v1(\n",
    "        text: str,\n",
    "        batch_size: int,\n",
    "        max_length: int,\n",
    "        step: int,\n",
    "        shuffle: bool = True,\n",
    "        drop_last: bool = True,\n",
    "        num_workers: int = 0,\n",
    "):\n",
    "    tokenizer = tiktoken.get_encoding(\"gpt2\")\n",
    "    dataset = GPTDataset(text, tokenizer, max_length, step)\n",
    "\n",
    "    dataloader = DataLoader(\n",
    "        dataset,\n",
    "        batch_size=batch_size,\n",
    "        shuffle=shuffle,\n",
    "        drop_last=drop_last,\n",
    "        num_workers=num_workers,\n",
    "    )\n",
    "    return dataloader"
   ]
  },
  {
   "cell_type": "code",
   "execution_count": 20,
   "metadata": {},
   "outputs": [
    {
     "name": "stdout",
     "output_type": "stream",
     "text": [
      "tensor([[ 6653,  3656, 27846,   379],\n",
      "        [   12, 12239,    13,   198],\n",
      "        [39136,   278,   290,   285],\n",
      "        [  607,    13,   314,  2391],\n",
      "        [  890,   276,   284,   910],\n",
      "        [34537,   526,   198,   198],\n",
      "        [ 2106,    13,  1375,  4762],\n",
      "        [19713, 14676,    25,  9675]])\n",
      "tensor([[ 3656, 27846,   379,   683],\n",
      "        [12239,    13,   198,   198],\n",
      "        [  278,   290,   285,  4185],\n",
      "        [   13,   314,  2391,   531],\n",
      "        [  276,   284,   910,    25],\n",
      "        [  526,   198,   198,     1],\n",
      "        [   13,  1375,  4762,   287],\n",
      "        [14676,    25,  9675,   284]])\n"
     ]
    }
   ],
   "source": [
    "with open(\"../../data/the_verdict.txt\", \"r\") as f:\n",
    "    raw_text = f.read()\n",
    "\n",
    "max_length = 4\n",
    "dataloader = create_dataloader_v1(raw_text, batch_size=8, max_length=max_length, step=max_length)\n",
    "\n",
    "data_iter = iter(dataloader)\n",
    "input_ids, target_ids = next(data_iter)\n",
    "print(input_ids)\n",
    "print(target_ids)"
   ]
  },
  {
   "cell_type": "code",
   "execution_count": 26,
   "metadata": {},
   "outputs": [],
   "source": [
    "vocab_size = 50257\n",
    "output_dim = 256\n",
    "context_length = 1024\n",
    "\n",
    "token_embedding_layer = torch.nn.Embedding(vocab_size, output_dim)\n",
    "position_embedding_layer = torch.nn.Embedding(context_length, output_dim)\n",
    "\n",
    "token_embeddings = token_embedding_layer(input_ids)\n",
    "position_embeddings = position_embedding_layer(torch.arange(max_length))\n"
   ]
  },
  {
   "cell_type": "code",
   "execution_count": 27,
   "metadata": {},
   "outputs": [],
   "source": [
    "for batch in dataloader:\n",
    "    x, y  = batch\n",
    "\n",
    "    token_embeddings = token_embedding_layer(x)\n",
    "    position_embeddings = position_embedding_layer(torch.arange(max_length))\n",
    "    input_embeddings = token_embeddings + position_embeddings\n",
    "\n",
    "    break"
   ]
  },
  {
   "cell_type": "code",
   "execution_count": 28,
   "metadata": {},
   "outputs": [
    {
     "name": "stdout",
     "output_type": "stream",
     "text": [
      "torch.Size([8, 4, 256])\n"
     ]
    }
   ],
   "source": [
    "print(input_embeddings.shape)"
   ]
  }
 ],
 "metadata": {
  "kernelspec": {
   "display_name": "env",
   "language": "python",
   "name": "python3"
  },
  "language_info": {
   "codemirror_mode": {
    "name": "ipython",
    "version": 3
   },
   "file_extension": ".py",
   "mimetype": "text/x-python",
   "name": "python",
   "nbconvert_exporter": "python",
   "pygments_lexer": "ipython3",
   "version": "3.11.1"
  }
 },
 "nbformat": 4,
 "nbformat_minor": 2
}
