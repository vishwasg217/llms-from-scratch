{
 "cells": [
  {
   "cell_type": "markdown",
   "metadata": {},
   "source": [
    "# Data Loading Pipeline\n",
    "\n",
    "1. Tokenize the text\n",
    "2. Sliding window approach to create sequences\n",
    "3. Load to `DataLoader` class\n",
    "4. Create embeddings layer\n",
    "5. Create positional embeddings layer\n",
    "6. Add positional embeddings to the embeddings"
   ]
  },
  {
   "cell_type": "code",
   "execution_count": 1,
   "metadata": {},
   "outputs": [],
   "source": [
    "import tiktoken\n",
    "from tiktoken.core import Encoding\n",
    "import torch\n",
    "from torch.utils.data import DataLoader, Dataset\n",
    "\n",
    "class GPTDataset(Dataset):\n",
    "    def __init__(self, text: str, tokenizer: Encoding, max_length: int, step: int):\n",
    "        self.input_ids = []\n",
    "        self.target_ids = []\n",
    "\n",
    "        token_ids = tokenizer.encode(text, allowed_special={\"<|endoftext|>\"})\n",
    "\n",
    "        for i in range(0, len(token_ids) - max_length, step):\n",
    "            input_chunk = token_ids[i:i + max_length]\n",
    "            target_chunk = token_ids[i + 1:i + max_length + 1]\n",
    "            self.input_ids.append(torch.tensor(input_chunk))\n",
    "            self.target_ids.append(torch.tensor(target_chunk))\n",
    "\n",
    "    def __len__(self):\n",
    "        return len(self.input_ids)\n",
    "    \n",
    "    def __getitem__(self, idx):\n",
    "        return self.input_ids[idx], self.target_ids[idx]"
   ]
  },
  {
   "cell_type": "code",
   "execution_count": 2,
   "metadata": {},
   "outputs": [],
   "source": [
    "def create_dataloader_v1(\n",
    "        text: str,\n",
    "        batch_size: int,\n",
    "        max_length: int,\n",
    "        step: int,\n",
    "        shuffle: bool = True,\n",
    "        drop_last: bool = True,\n",
    "        num_workers: int = 0,\n",
    "):\n",
    "    tokenizer = tiktoken.get_encoding(\"gpt2\")\n",
    "    dataset = GPTDataset(text, tokenizer, max_length, step)\n",
    "\n",
    "    dataloader = DataLoader(\n",
    "        dataset,\n",
    "        batch_size=batch_size,\n",
    "        shuffle=shuffle,\n",
    "        drop_last=drop_last,\n",
    "        num_workers=num_workers,\n",
    "    )\n",
    "    return dataloader"
   ]
  },
  {
   "cell_type": "code",
   "execution_count": 3,
   "metadata": {},
   "outputs": [
    {
     "name": "stdout",
     "output_type": "stream",
     "text": [
      "tensor([[   40,   367,  2885,  1464],\n",
      "        [ 1807,  3619,   402,   271],\n",
      "        [10899,  2138,   257,  7026],\n",
      "        [15632,   438,  2016,   257],\n",
      "        [  922,  5891,  1576,   438],\n",
      "        [  568,   340,   373,   645],\n",
      "        [ 1049,  5975,   284,   502],\n",
      "        [  284,  3285,   326,    11]])\n",
      "tensor([[  367,  2885,  1464,  1807],\n",
      "        [ 3619,   402,   271, 10899],\n",
      "        [ 2138,   257,  7026, 15632],\n",
      "        [  438,  2016,   257,   922],\n",
      "        [ 5891,  1576,   438,   568],\n",
      "        [  340,   373,   645,  1049],\n",
      "        [ 5975,   284,   502,   284],\n",
      "        [ 3285,   326,    11,   287]])\n"
     ]
    }
   ],
   "source": [
    "with open(\"../../data/the_verdict.txt\", \"r\") as f:\n",
    "    raw_text = f.read()\n",
    "\n",
    "max_length = 4\n",
    "dataloader = create_dataloader_v1(raw_text, batch_size=8, max_length=max_length, step=4, shuffle=False)\n",
    "\n",
    "data_iter = iter(dataloader)\n",
    "input_ids, target_ids = next(data_iter)\n",
    "print(input_ids)\n",
    "print(target_ids)"
   ]
  },
  {
   "cell_type": "code",
   "execution_count": 4,
   "metadata": {},
   "outputs": [],
   "source": [
    "vocab_size = 50257\n",
    "output_dim = 256\n",
    "context_length = 1024\n",
    "\n",
    "token_embedding_layer = torch.nn.Embedding(vocab_size, output_dim)\n",
    "position_embedding_layer = torch.nn.Embedding(context_length, output_dim)\n",
    "\n",
    "token_embeddings = token_embedding_layer(input_ids)\n",
    "position_embeddings = position_embedding_layer(torch.arange(max_length))\n"
   ]
  },
  {
   "cell_type": "code",
   "execution_count": 8,
   "metadata": {},
   "outputs": [
    {
     "name": "stdout",
     "output_type": "stream",
     "text": [
      "tensor([[[-1.9669, -1.2198, -0.6559,  ...,  0.5926,  0.7129, -1.3824],\n",
      "         [ 0.9595,  0.0899,  0.4915,  ..., -0.2249, -0.1964,  0.6096],\n",
      "         [-0.7359, -0.0094, -0.7402,  ...,  0.0481, -0.2016,  0.1673],\n",
      "         [-0.6303, -0.6080,  0.7900,  ...,  0.4257,  0.7381,  0.6094]],\n",
      "\n",
      "        [[-0.4139, -0.2746, -0.3565,  ..., -1.1815,  0.9983,  1.1216],\n",
      "         [-0.3686, -1.6352, -0.3563,  ..., -0.1397,  0.0161,  0.7463],\n",
      "         [ 0.1056,  0.8492, -1.3161,  ...,  0.6897,  1.2767, -0.2068],\n",
      "         [ 0.0859, -0.1970, -2.0486,  ..., -0.4712, -1.0559,  0.5522]],\n",
      "\n",
      "        [[-0.5986,  0.0024, -2.0352,  ..., -0.0214,  0.2633, -0.3674],\n",
      "         [ 0.5695, -0.4940, -0.1517,  ...,  0.2831, -1.2831, -1.5886],\n",
      "         [-1.9219,  2.1224,  0.2398,  ..., -0.8620, -0.5231,  1.4595],\n",
      "         [ 0.9376,  0.9730,  1.2529,  ...,  0.3224, -0.0204, -0.0700]],\n",
      "\n",
      "        ...,\n",
      "\n",
      "        [[ 1.5977, -1.6930,  1.4751,  ..., -0.8977, -0.2904,  0.0308],\n",
      "         [ 1.4394, -1.6410,  0.1755,  ..., -1.4297,  0.8600, -0.7712],\n",
      "         [ 0.5067,  1.7153, -0.1115,  ..., -0.2644,  0.5888,  0.6006],\n",
      "         [-1.5586, -0.8714, -0.7578,  ...,  1.8677, -1.1628,  0.9279]],\n",
      "\n",
      "        [[ 0.9537,  1.0388, -1.1429,  ...,  1.6074,  1.1642,  0.5461],\n",
      "         [-0.8501, -1.7325, -1.2487,  ...,  0.3181,  0.7816, -0.0779],\n",
      "         [-0.2767, -1.0864,  1.2944,  ..., -0.8186,  0.0300, -0.3125],\n",
      "         [ 0.7536,  0.0255,  1.0080,  ...,  1.1482, -0.3288, -0.3390]],\n",
      "\n",
      "        [[-0.2767, -1.0864,  1.2944,  ..., -0.8186,  0.0300, -0.3125],\n",
      "         [ 1.4578,  0.3982, -0.4038,  ..., -0.7327,  1.1998,  0.5336],\n",
      "         [ 1.2175, -0.2969, -1.2796,  ..., -0.1661,  0.0578, -0.0120],\n",
      "         [-0.5063, -0.1196, -1.8466,  ..., -0.6011,  0.1946,  0.9332]]],\n",
      "       grad_fn=<EmbeddingBackward0>)\n",
      "tensor([[-0.1898,  0.3006, -2.1761,  ...,  0.7919,  0.0955,  1.0450],\n",
      "        [ 0.5733, -0.7359, -1.6876,  ...,  0.1663, -0.7458,  1.1725],\n",
      "        [-0.6904, -0.9033,  1.6079,  ..., -0.5241, -0.2603, -0.3342],\n",
      "        [ 1.0524, -1.7135,  0.2887,  ...,  0.1134, -0.8299, -2.1356]],\n",
      "       grad_fn=<EmbeddingBackward0>)\n"
     ]
    }
   ],
   "source": [
    "for batch in dataloader:\n",
    "    x, y  = batch\n",
    "\n",
    "    token_embeddings = token_embedding_layer(x)\n",
    "    print(token_embeddings)\n",
    "    position_embeddings = position_embedding_layer(torch.arange(max_length))\n",
    "    print(position_embeddings)\n",
    "    input_embeddings = token_embeddings + position_embeddings\n",
    "\n",
    "    break"
   ]
  },
  {
   "cell_type": "code",
   "execution_count": 6,
   "metadata": {},
   "outputs": [
    {
     "name": "stdout",
     "output_type": "stream",
     "text": [
      "torch.Size([8, 4, 256])\n"
     ]
    }
   ],
   "source": [
    "print(input_embeddings.shape)"
   ]
  }
 ],
 "metadata": {
  "kernelspec": {
   "display_name": "env",
   "language": "python",
   "name": "python3"
  },
  "language_info": {
   "codemirror_mode": {
    "name": "ipython",
    "version": 3
   },
   "file_extension": ".py",
   "mimetype": "text/x-python",
   "name": "python",
   "nbconvert_exporter": "python",
   "pygments_lexer": "ipython3",
   "version": "3.11.1"
  }
 },
 "nbformat": 4,
 "nbformat_minor": 2
}
