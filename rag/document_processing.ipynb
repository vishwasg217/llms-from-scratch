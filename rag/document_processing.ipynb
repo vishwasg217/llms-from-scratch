{
 "cells": [
  {
   "cell_type": "code",
   "execution_count": 6,
   "metadata": {},
   "outputs": [],
   "source": [
    "import os \n",
    "\n",
    "data_folder_path = \"../data/\"\n",
    "file_name = \"human-nutrition-text.pdf\"\n",
    "file_path = os.path.join(data_folder_path, file_name)"
   ]
  },
  {
   "cell_type": "code",
   "execution_count": 7,
   "metadata": {},
   "outputs": [
    {
     "data": {
      "application/vnd.jupyter.widget-view+json": {
       "model_id": "4125df7aa761426bbdaccf680be4934d",
       "version_major": 2,
       "version_minor": 0
      },
      "text/plain": [
       "0it [00:00, ?it/s]"
      ]
     },
     "metadata": {},
     "output_type": "display_data"
    },
    {
     "name": "stdout",
     "output_type": "stream",
     "text": [
      "Human Nutrition: 2020 Edition \n",
      "\n",
      "\n",
      "Human Nutrition: 2020 \n",
      "Edition \n",
      "UNIVERSITY OF HAWAI‘I AT MĀNOA \n",
      "FOOD SCIENCE AND HUMAN \n",
      "NUTRITION PROGRAM \n",
      "ALAN TITCHENAL, SKYLAR HARA, \n",
      "NOEMI ARCEO CAACBAY, WILLIAM \n",
      "MEINKE-LAU, YA-YUN YANG, MARIE \n",
      "KAINOA FIALKOWSKI REVILLA, \n",
      "JENNIFER DRAPER, GEMADY \n",
      "LANGFELDER, CHERYL GIBBY, CHYNA \n",
      "NICOLE CHUN, AND ALLISON \n",
      "CALABRESE \n",
      "\n",
      "Human Nutrition: 2020 Edition by University of Hawai‘i at Mānoa Food Science and \n",
      "Human Nutrition Program is licensed under a Creative Commons Attribution 4.0 \n",
      "International License, except where otherwise noted. \n",
      "\n",
      "Contents \n",
      "Preface \n",
      "University of Hawai‘i at Mānoa Food Science and \n",
      "Human Nutrition Program and Human Nutrition \n",
      "Program \n",
      "xxv \n",
      "About the Contributors \n",
      "University of Hawai‘i at Mānoa Food Science and \n",
      "Human Nutrition Program and Human Nutrition \n",
      "Program \n",
      "xxvi \n",
      "Acknowledgements \n",
      "University of Hawai‘i at Mānoa Food Science and \n",
      "Human Nutrition Program and Human Nutrition \n",
      "Program \n",
      "xl \n",
      "Part I. Chapter 1. Basic Concepts in Nutrition \n",
      "Introduction \n",
      "University of Hawai‘i at Mānoa Food Science and \n",
      "Human Nutrition Program and Human Nutrition \n",
      "Program \n",
      "3 \n",
      "Food Quality \n",
      "University of Hawai‘i at Mānoa Food Science and \n",
      "Human Nutrition Program and Human Nutrition \n",
      "Program \n",
      "14 \n",
      "Units of Measure \n",
      "University of Hawai‘i at Mānoa Food Science and \n",
      "Human Nutrition Program and Human Nutrition \n",
      "Program \n",
      "18 \n",
      "\n"
     ]
    }
   ],
   "source": [
    "import pymupdf\n",
    "from tqdm.auto import tqdm\n",
    "\n",
    "pdf_document = pymupdf.open(file_path)\n",
    "\n",
    "for page_no, page in tqdm(enumerate(pdf_document[:5])):\n",
    "    print(page.get_text())\n"
   ]
  },
  {
   "cell_type": "code",
   "execution_count": 8,
   "metadata": {},
   "outputs": [
    {
     "data": {
      "application/vnd.jupyter.widget-view+json": {
       "model_id": "01fc812bc9024f7b8ee9bdac90e7e873",
       "version_major": 2,
       "version_minor": 0
      },
      "text/plain": [
       "0it [00:00, ?it/s]"
      ]
     },
     "metadata": {},
     "output_type": "display_data"
    }
   ],
   "source": [
    "import pymupdf\n",
    "from tqdm.auto import tqdm\n",
    "\n",
    "def text_formatter(text: str) -> str:\n",
    "    cleaned_text = text.replace(\"\\n\", \" \").strip()\n",
    "    return cleaned_text\n",
    "\n",
    "def read_pdf(pdf_path: str) -> list[dict]:\n",
    "    document = pymupdf.open(pdf_path)\n",
    "    pages = []\n",
    "    for page_number, page in tqdm(enumerate(document)):\n",
    "        text = page.get_text()\n",
    "        text = text_formatter(text)\n",
    "        pages.append(\n",
    "            {\n",
    "                \"page_number\": page_number - 41, #actual pdf content starts from page 41\n",
    "                \"text\": text,\n",
    "                \"page_char_count\": len(text),\n",
    "                \"page_word_count\": len(text.split(\" \")),\n",
    "                \"sentence_count\": len(text.split(\". \")),\n",
    "                \"page_token_count\": len(text)/4\n",
    "            }\n",
    "        )\n",
    "\n",
    "    return pages\n",
    "\n",
    "pages = read_pdf(file_path)"
   ]
  },
  {
   "cell_type": "code",
   "execution_count": 9,
   "metadata": {},
   "outputs": [
    {
     "data": {
      "text/html": [
       "<div>\n",
       "<style scoped>\n",
       "    .dataframe tbody tr th:only-of-type {\n",
       "        vertical-align: middle;\n",
       "    }\n",
       "\n",
       "    .dataframe tbody tr th {\n",
       "        vertical-align: top;\n",
       "    }\n",
       "\n",
       "    .dataframe thead th {\n",
       "        text-align: right;\n",
       "    }\n",
       "</style>\n",
       "<table border=\"1\" class=\"dataframe\">\n",
       "  <thead>\n",
       "    <tr style=\"text-align: right;\">\n",
       "      <th></th>\n",
       "      <th>page_number</th>\n",
       "      <th>text</th>\n",
       "      <th>page_char_count</th>\n",
       "      <th>page_word_count</th>\n",
       "      <th>sentence_count</th>\n",
       "      <th>page_token_count</th>\n",
       "    </tr>\n",
       "  </thead>\n",
       "  <tbody>\n",
       "    <tr>\n",
       "      <th>0</th>\n",
       "      <td>-41</td>\n",
       "      <td>Human Nutrition: 2020 Edition</td>\n",
       "      <td>29</td>\n",
       "      <td>4</td>\n",
       "      <td>1</td>\n",
       "      <td>7.25</td>\n",
       "    </tr>\n",
       "    <tr>\n",
       "      <th>1</th>\n",
       "      <td>-40</td>\n",
       "      <td></td>\n",
       "      <td>0</td>\n",
       "      <td>1</td>\n",
       "      <td>1</td>\n",
       "      <td>0.00</td>\n",
       "    </tr>\n",
       "    <tr>\n",
       "      <th>2</th>\n",
       "      <td>-39</td>\n",
       "      <td>Human Nutrition: 2020  Edition  UNIVERSITY OF ...</td>\n",
       "      <td>320</td>\n",
       "      <td>54</td>\n",
       "      <td>1</td>\n",
       "      <td>80.00</td>\n",
       "    </tr>\n",
       "    <tr>\n",
       "      <th>3</th>\n",
       "      <td>-38</td>\n",
       "      <td>Human Nutrition: 2020 Edition by University of...</td>\n",
       "      <td>212</td>\n",
       "      <td>32</td>\n",
       "      <td>1</td>\n",
       "      <td>53.00</td>\n",
       "    </tr>\n",
       "    <tr>\n",
       "      <th>4</th>\n",
       "      <td>-37</td>\n",
       "      <td>Contents  Preface  University of Hawai‘i at Mā...</td>\n",
       "      <td>797</td>\n",
       "      <td>145</td>\n",
       "      <td>2</td>\n",
       "      <td>199.25</td>\n",
       "    </tr>\n",
       "  </tbody>\n",
       "</table>\n",
       "</div>"
      ],
      "text/plain": [
       "   page_number                                               text  \\\n",
       "0          -41                      Human Nutrition: 2020 Edition   \n",
       "1          -40                                                      \n",
       "2          -39  Human Nutrition: 2020  Edition  UNIVERSITY OF ...   \n",
       "3          -38  Human Nutrition: 2020 Edition by University of...   \n",
       "4          -37  Contents  Preface  University of Hawai‘i at Mā...   \n",
       "\n",
       "   page_char_count  page_word_count  sentence_count  page_token_count  \n",
       "0               29                4               1              7.25  \n",
       "1                0                1               1              0.00  \n",
       "2              320               54               1             80.00  \n",
       "3              212               32               1             53.00  \n",
       "4              797              145               2            199.25  "
      ]
     },
     "execution_count": 9,
     "metadata": {},
     "output_type": "execute_result"
    }
   ],
   "source": [
    "import pandas as pd\n",
    "\n",
    "df = pd.DataFrame(pages)\n",
    "df.head()"
   ]
  },
  {
   "cell_type": "markdown",
   "metadata": {},
   "source": [
    "## Text Processing"
   ]
  },
  {
   "cell_type": "code",
   "execution_count": 10,
   "metadata": {},
   "outputs": [
    {
     "name": "stdout",
     "output_type": "stream",
     "text": [
      "This is a sentence.\n",
      "This is another sentence.\n",
      "This is the last sentence.\n"
     ]
    }
   ],
   "source": [
    "from spacy.lang.en import English\n",
    "\n",
    "nlp = English()\n",
    "\n",
    "nlp.add_pipe(\"sentencizer\")\n",
    "doc = nlp(\"This is a sentence. This is another sentence. This is the last sentence.\")\n",
    "for sent in doc.sents:\n",
    "    print(sent.text)"
   ]
  },
  {
   "cell_type": "code",
   "execution_count": 11,
   "metadata": {},
   "outputs": [
    {
     "data": {
      "application/vnd.jupyter.widget-view+json": {
       "model_id": "85461a7f30354e3cb1be89e6ae29f154",
       "version_major": 2,
       "version_minor": 0
      },
      "text/plain": [
       "  0%|          | 0/1208 [00:00<?, ?it/s]"
      ]
     },
     "metadata": {},
     "output_type": "display_data"
    }
   ],
   "source": [
    "for item in tqdm(pages):\n",
    "    item[\"sentences\"] = list(nlp(item[\"text\"]).sents)\n",
    "    item[\"sentences\"] = [str(sent) for sent in item[\"sentences\"]]\n",
    "    item[\"page_sentence_count\"] = len(item[\"sentences\"])\n"
   ]
  },
  {
   "cell_type": "markdown",
   "metadata": {},
   "source": [
    "### split text"
   ]
  },
  {
   "cell_type": "code",
   "execution_count": 12,
   "metadata": {},
   "outputs": [
    {
     "data": {
      "application/vnd.jupyter.widget-view+json": {
       "model_id": "95c091386a854b32ae9afe5822631a5a",
       "version_major": 2,
       "version_minor": 0
      },
      "text/plain": [
       "  0%|          | 0/1208 [00:00<?, ?it/s]"
      ]
     },
     "metadata": {},
     "output_type": "display_data"
    }
   ],
   "source": [
    "\n",
    "def split_list(input_list: list[str], slice_size: int) -> list[list[str]]:\n",
    "    return [input_list[i:i+slice_size] for i in range(0, len(input_list), slice_size)]\n",
    "\n",
    "\n",
    "for item in tqdm(pages):\n",
    "    item[\"sentence_chunks\"] = split_list(item[\"sentences\"], 10)\n",
    "    item[\"num_chunks\"] = len(item[\"sentence_chunks\"])\n"
   ]
  },
  {
   "cell_type": "code",
   "execution_count": 13,
   "metadata": {},
   "outputs": [
    {
     "data": {
      "text/html": [
       "<div>\n",
       "<style scoped>\n",
       "    .dataframe tbody tr th:only-of-type {\n",
       "        vertical-align: middle;\n",
       "    }\n",
       "\n",
       "    .dataframe tbody tr th {\n",
       "        vertical-align: top;\n",
       "    }\n",
       "\n",
       "    .dataframe thead th {\n",
       "        text-align: right;\n",
       "    }\n",
       "</style>\n",
       "<table border=\"1\" class=\"dataframe\">\n",
       "  <thead>\n",
       "    <tr style=\"text-align: right;\">\n",
       "      <th></th>\n",
       "      <th>page_number</th>\n",
       "      <th>text</th>\n",
       "      <th>page_char_count</th>\n",
       "      <th>page_word_count</th>\n",
       "      <th>sentence_count</th>\n",
       "      <th>page_token_count</th>\n",
       "      <th>sentences</th>\n",
       "      <th>page_sentence_count</th>\n",
       "      <th>sentence_chunks</th>\n",
       "      <th>num_chunks</th>\n",
       "    </tr>\n",
       "  </thead>\n",
       "  <tbody>\n",
       "    <tr>\n",
       "      <th>0</th>\n",
       "      <td>-41</td>\n",
       "      <td>Human Nutrition: 2020 Edition</td>\n",
       "      <td>29</td>\n",
       "      <td>4</td>\n",
       "      <td>1</td>\n",
       "      <td>7.25</td>\n",
       "      <td>[Human Nutrition: 2020 Edition]</td>\n",
       "      <td>1</td>\n",
       "      <td>[[Human Nutrition: 2020 Edition]]</td>\n",
       "      <td>1</td>\n",
       "    </tr>\n",
       "    <tr>\n",
       "      <th>1</th>\n",
       "      <td>-40</td>\n",
       "      <td></td>\n",
       "      <td>0</td>\n",
       "      <td>1</td>\n",
       "      <td>1</td>\n",
       "      <td>0.00</td>\n",
       "      <td>[]</td>\n",
       "      <td>0</td>\n",
       "      <td>[]</td>\n",
       "      <td>0</td>\n",
       "    </tr>\n",
       "    <tr>\n",
       "      <th>2</th>\n",
       "      <td>-39</td>\n",
       "      <td>Human Nutrition: 2020  Edition  UNIVERSITY OF ...</td>\n",
       "      <td>320</td>\n",
       "      <td>54</td>\n",
       "      <td>1</td>\n",
       "      <td>80.00</td>\n",
       "      <td>[Human Nutrition: 2020  Edition  UNIVERSITY OF...</td>\n",
       "      <td>1</td>\n",
       "      <td>[[Human Nutrition: 2020  Edition  UNIVERSITY O...</td>\n",
       "      <td>1</td>\n",
       "    </tr>\n",
       "    <tr>\n",
       "      <th>3</th>\n",
       "      <td>-38</td>\n",
       "      <td>Human Nutrition: 2020 Edition by University of...</td>\n",
       "      <td>212</td>\n",
       "      <td>32</td>\n",
       "      <td>1</td>\n",
       "      <td>53.00</td>\n",
       "      <td>[Human Nutrition: 2020 Edition by University o...</td>\n",
       "      <td>1</td>\n",
       "      <td>[[Human Nutrition: 2020 Edition by University ...</td>\n",
       "      <td>1</td>\n",
       "    </tr>\n",
       "    <tr>\n",
       "      <th>4</th>\n",
       "      <td>-37</td>\n",
       "      <td>Contents  Preface  University of Hawai‘i at Mā...</td>\n",
       "      <td>797</td>\n",
       "      <td>145</td>\n",
       "      <td>2</td>\n",
       "      <td>199.25</td>\n",
       "      <td>[Contents  Preface  University of Hawai‘i at M...</td>\n",
       "      <td>2</td>\n",
       "      <td>[[Contents  Preface  University of Hawai‘i at ...</td>\n",
       "      <td>1</td>\n",
       "    </tr>\n",
       "  </tbody>\n",
       "</table>\n",
       "</div>"
      ],
      "text/plain": [
       "   page_number                                               text  \\\n",
       "0          -41                      Human Nutrition: 2020 Edition   \n",
       "1          -40                                                      \n",
       "2          -39  Human Nutrition: 2020  Edition  UNIVERSITY OF ...   \n",
       "3          -38  Human Nutrition: 2020 Edition by University of...   \n",
       "4          -37  Contents  Preface  University of Hawai‘i at Mā...   \n",
       "\n",
       "   page_char_count  page_word_count  sentence_count  page_token_count  \\\n",
       "0               29                4               1              7.25   \n",
       "1                0                1               1              0.00   \n",
       "2              320               54               1             80.00   \n",
       "3              212               32               1             53.00   \n",
       "4              797              145               2            199.25   \n",
       "\n",
       "                                           sentences  page_sentence_count  \\\n",
       "0                    [Human Nutrition: 2020 Edition]                    1   \n",
       "1                                                 []                    0   \n",
       "2  [Human Nutrition: 2020  Edition  UNIVERSITY OF...                    1   \n",
       "3  [Human Nutrition: 2020 Edition by University o...                    1   \n",
       "4  [Contents  Preface  University of Hawai‘i at M...                    2   \n",
       "\n",
       "                                     sentence_chunks  num_chunks  \n",
       "0                  [[Human Nutrition: 2020 Edition]]           1  \n",
       "1                                                 []           0  \n",
       "2  [[Human Nutrition: 2020  Edition  UNIVERSITY O...           1  \n",
       "3  [[Human Nutrition: 2020 Edition by University ...           1  \n",
       "4  [[Contents  Preface  University of Hawai‘i at ...           1  "
      ]
     },
     "execution_count": 13,
     "metadata": {},
     "output_type": "execute_result"
    }
   ],
   "source": [
    "df = pd.DataFrame(pages)\n",
    "df.head()"
   ]
  },
  {
   "cell_type": "code",
   "execution_count": 15,
   "metadata": {},
   "outputs": [
    {
     "data": {
      "application/vnd.jupyter.widget-view+json": {
       "model_id": "2cbfa387716449c4b94f2d0be6ffe862",
       "version_major": 2,
       "version_minor": 0
      },
      "text/plain": [
       "  0%|          | 0/1208 [00:00<?, ?it/s]"
      ]
     },
     "metadata": {},
     "output_type": "display_data"
    }
   ],
   "source": [
    "import re\n",
    "\n",
    "chunks = []\n",
    "for item in tqdm(pages):\n",
    "    for sentence_chunk in item[\"sentence_chunks\"]:\n",
    "        chunk_dict = {}\n",
    "        chunk_dict[\"page_number\"] = item[\"page_number\"]\n",
    "        chunk_dict[\"chunk\"] = \" \".join(sentence_chunk).strip()\n",
    "        chunk_dict[\"chunk_char_count\"] = len(chunk_dict[\"chunk\"])\n",
    "        chunk_dict[\"chunk_word_count\"] = len(chunk_dict[\"chunk\"].split(\" \"))\n",
    "        chunk_dict[\"chunk_token_count\"] = len(chunk_dict[\"chunk\"])/4\n",
    "\n",
    "        chunks.append(chunk_dict)\n"
   ]
  },
  {
   "cell_type": "code",
   "execution_count": 19,
   "metadata": {},
   "outputs": [
    {
     "data": {
      "text/plain": [
       "{'page_number': 345,\n",
       " 'chunk': 'Lipids and Disease  UNIVERSITY OF HAWAI‘I AT MĀNOA FOOD SCIENCE AND HUMAN  NUTRITION PROGRAM AND HUMAN NUTRITION PROGRAM  Because heart disease, cancer, and stroke are the three leading  causes of death in the United States, it is critical to address dietary  and lifestyle choices that will ultimately decrease risk factors for  these diseases. According to the US Department of Health and  Human Services (HHS), the following risk factors are controllable:  high blood pressure, high cholesterol, cigarette smoking, diabetes,  poor diet, physical inactivity, being overweight, and obesity.  In light of that, we present the following informational tips to help  you define, evaluate, and implement healthy dietary choices to last  a lifetime. The amount and the type of fat that composes a person’s  dietary profile will have a profound effect upon the way fat and  cholesterol is metabolized in the body.  Watch Out for Saturated Fat and  Cholesterol  In proper amounts, cholesterol is a compound used by the body  to sustain many important body functions. In excess, cholesterol  is harmful if it accumulates in the structures of the body’s vast  network of blood vessels. High blood LDL and low blood HDL are  major indicators of blood cholesterol risk. The largest influence on  blood cholesterol levels rests in the mix of saturated fat and trans  fat in the diet. According to the Harvard School of Public Health,  for every extra 2 percent of calories from trans fat consumed per  day—about the amount found in a midsize order of French fries  at a fast-food establishment—the risk of coronary heart disease  Lipids and Disease  |  345',\n",
       " 'chunk_char_count': 1644,\n",
       " 'chunk_word_count': 290,\n",
       " 'chunk_token_count': 411.0}"
      ]
     },
     "execution_count": 19,
     "metadata": {},
     "output_type": "execute_result"
    }
   ],
   "source": [
    "chunks[560]"
   ]
  },
  {
   "cell_type": "code",
   "execution_count": 20,
   "metadata": {},
   "outputs": [
    {
     "data": {
      "text/html": [
       "<div>\n",
       "<style scoped>\n",
       "    .dataframe tbody tr th:only-of-type {\n",
       "        vertical-align: middle;\n",
       "    }\n",
       "\n",
       "    .dataframe tbody tr th {\n",
       "        vertical-align: top;\n",
       "    }\n",
       "\n",
       "    .dataframe thead th {\n",
       "        text-align: right;\n",
       "    }\n",
       "</style>\n",
       "<table border=\"1\" class=\"dataframe\">\n",
       "  <thead>\n",
       "    <tr style=\"text-align: right;\">\n",
       "      <th></th>\n",
       "      <th>page_number</th>\n",
       "      <th>chunk_char_count</th>\n",
       "      <th>chunk_word_count</th>\n",
       "      <th>chunk_token_count</th>\n",
       "    </tr>\n",
       "  </thead>\n",
       "  <tbody>\n",
       "    <tr>\n",
       "      <th>count</th>\n",
       "      <td>1843.00</td>\n",
       "      <td>1843.00</td>\n",
       "      <td>1843.00</td>\n",
       "      <td>1843.00</td>\n",
       "    </tr>\n",
       "    <tr>\n",
       "      <th>mean</th>\n",
       "      <td>583.38</td>\n",
       "      <td>752.84</td>\n",
       "      <td>130.73</td>\n",
       "      <td>188.21</td>\n",
       "    </tr>\n",
       "    <tr>\n",
       "      <th>std</th>\n",
       "      <td>347.79</td>\n",
       "      <td>456.18</td>\n",
       "      <td>80.40</td>\n",
       "      <td>114.05</td>\n",
       "    </tr>\n",
       "    <tr>\n",
       "      <th>min</th>\n",
       "      <td>-41.00</td>\n",
       "      <td>14.00</td>\n",
       "      <td>4.00</td>\n",
       "      <td>3.50</td>\n",
       "    </tr>\n",
       "    <tr>\n",
       "      <th>25%</th>\n",
       "      <td>280.50</td>\n",
       "      <td>323.00</td>\n",
       "      <td>54.00</td>\n",
       "      <td>80.75</td>\n",
       "    </tr>\n",
       "    <tr>\n",
       "      <th>50%</th>\n",
       "      <td>586.00</td>\n",
       "      <td>766.00</td>\n",
       "      <td>134.00</td>\n",
       "      <td>191.50</td>\n",
       "    </tr>\n",
       "    <tr>\n",
       "      <th>75%</th>\n",
       "      <td>890.00</td>\n",
       "      <td>1140.00</td>\n",
       "      <td>198.00</td>\n",
       "      <td>285.00</td>\n",
       "    </tr>\n",
       "    <tr>\n",
       "      <th>max</th>\n",
       "      <td>1166.00</td>\n",
       "      <td>1871.00</td>\n",
       "      <td>413.00</td>\n",
       "      <td>467.75</td>\n",
       "    </tr>\n",
       "  </tbody>\n",
       "</table>\n",
       "</div>"
      ],
      "text/plain": [
       "       page_number  chunk_char_count  chunk_word_count  chunk_token_count\n",
       "count      1843.00           1843.00           1843.00            1843.00\n",
       "mean        583.38            752.84            130.73             188.21\n",
       "std         347.79            456.18             80.40             114.05\n",
       "min         -41.00             14.00              4.00               3.50\n",
       "25%         280.50            323.00             54.00              80.75\n",
       "50%         586.00            766.00            134.00             191.50\n",
       "75%         890.00           1140.00            198.00             285.00\n",
       "max        1166.00           1871.00            413.00             467.75"
      ]
     },
     "execution_count": 20,
     "metadata": {},
     "output_type": "execute_result"
    }
   ],
   "source": [
    "df = pd.DataFrame(chunks)\n",
    "df.describe().round(2)"
   ]
  },
  {
   "cell_type": "code",
   "execution_count": 21,
   "metadata": {},
   "outputs": [],
   "source": [
    "#remove unnecessary chunks\n",
    "\n",
    "min_token_length = 20\n",
    "\n",
    "for row in df[df[\"chunk_token_count\"] < min_token_length].iterrows():\n",
    "    df.drop(row[0], inplace=True)\n",
    "\n",
    "chunks = df.to_dict(orient=\"records\")\n"
   ]
  },
  {
   "cell_type": "code",
   "execution_count": 23,
   "metadata": {},
   "outputs": [
    {
     "data": {
      "text/plain": [
       "1755"
      ]
     },
     "execution_count": 23,
     "metadata": {},
     "output_type": "execute_result"
    }
   ],
   "source": [
    "len(chunks)"
   ]
  }
 ],
 "metadata": {
  "kernelspec": {
   "display_name": "env",
   "language": "python",
   "name": "python3"
  },
  "language_info": {
   "codemirror_mode": {
    "name": "ipython",
    "version": 3
   },
   "file_extension": ".py",
   "mimetype": "text/x-python",
   "name": "python",
   "nbconvert_exporter": "python",
   "pygments_lexer": "ipython3",
   "version": "3.11.1"
  }
 },
 "nbformat": 4,
 "nbformat_minor": 2
}
